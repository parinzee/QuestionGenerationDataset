{
 "cells": [
  {
   "cell_type": "markdown",
   "metadata": {},
   "source": [
    "# mt5-thai-QG\n",
    "This is notebook detailing how to finetune **mt5 for question-generation in the Thai language** \n",
    "## Installing requirements"
   ]
  },
  {
   "cell_type": "code",
   "execution_count": null,
   "metadata": {},
   "outputs": [],
   "source": [
    "%pip install ijson pandas simplet5 beautifulsoup4"
   ]
  },
  {
   "cell_type": "markdown",
   "metadata": {},
   "source": [
    "## Gather & Process datasets\n",
    "- xquad-thai\n",
    "- iapp-wiki-qa-dataset\n",
    "- thaiqa"
   ]
  },
  {
   "cell_type": "code",
   "execution_count": 5,
   "metadata": {},
   "outputs": [
    {
     "name": "stdout",
     "output_type": "stream",
     "text": [
      "Error: 'detail' (Error on 'detail' is expected because of the dataset structure\n"
     ]
    }
   ],
   "source": [
    "\n",
    "import math\n",
    "import pandas as pd\n",
    "import urllib.request\n",
    "import os\n",
    "import ijson\n",
    "import json\n",
    "from zipfile import ZipFile\n",
    "from bs4 import BeautifulSoup\n",
    "\n",
    "\n",
    "def download_dataset(url, file_name):\n",
    "    urllib.request.urlretrieve(\n",
    "        url,\n",
    "        os.path.join(\"dataset/\", file_name),\n",
    "        reporthook=(\n",
    "            lambda count, block, total: print(\n",
    "                f\"Downloading {file_name}: {math.floor((count * block) / total * 100)}%\",\n",
    "                end=\"\\r\",\n",
    "            )\n",
    "        ),\n",
    "    )\n",
    "    print(f\"Downloaded {file_name} from {url}\")\n",
    "\n",
    "\n",
    "# Check if the dataset already exists\n",
    "if not (os.path.exists(\"dataset/xquad.json\") and os.path.exists(\"dataset/iapp-thai-wikipedia-qa.json\")):\n",
    "\n",
    "    # Download all datasets\n",
    "    download_dataset(\"https://github.com/deepmind/xquad/raw/master/xquad.th.json\", \"xquad.json\")\n",
    "    download_dataset(\"https://raw.githubusercontent.com/iapp-technology/iapp-wiki-qa-dataset/main/iapp-thai-wikipedia-qa-1961-docs-9170-questions.json\", \"iapp-thai-wikipedia-qa.json\")\n",
    "\n",
    "# This list will store all the Q&A\n",
    "source_list = []\n",
    "target_list = []\n",
    "\n",
    "# Start cleaning data\n",
    "squad = open(os.path.join(\"dataset/\", \"xquad.json\"))\n",
    "iapp = open(os.path.join(\"dataset/\", \"iapp-thai-wikipedia-qa.json\"))\n",
    "iapp_keys = open(os.path.join(\"dataset/\", \"iapp-thai-wikipedia-qa.json\"))\n",
    "\n",
    "squad_json = ijson.items(squad, \"data.item\")\n",
    "iapp_json = json.load(iapp)\n",
    "iapp_keys = ijson.kvitems(iapp_keys, \"db\")\n",
    "\n",
    "for obj in squad_json:\n",
    "    paragraphs = obj[\"paragraphs\"]\n",
    "    for p in paragraphs:\n",
    "        context = p[\"context\"]\n",
    "        qas = [p for p in p[\"qas\"] if len(p) > 0]\n",
    "\n",
    "        source_text = f\"สร้าง {len(qas)} คำถาม: {context}\"\n",
    "        target_text = \"\"\n",
    "\n",
    "        for number, qa in enumerate(qas):\n",
    "            target_text += (\n",
    "                f\"{number + 1}. {qa['question']} A: {qa['answers'][0]['text']} \"\n",
    "            )\n",
    "\n",
    "        source_list.append(source_text)\n",
    "        target_list.append(target_text)\n",
    "\n",
    "for key in iapp_keys:\n",
    "    try:\n",
    "        obj = iapp_json[\"db\"][key[0]] \n",
    "        context = obj[\"detail\"]\n",
    "        qas = obj[\"QA\"]\n",
    "        target_text = \"\"\n",
    "\n",
    "        qa_amount = 0\n",
    "\n",
    "        for number, qa in enumerate(qas):\n",
    "            if len(qa[\"a\"]) != 0 and len(qa[\"q\"]) != 0:\n",
    "                target_text += (\n",
    "                    f\"{number + 1}. {qa['q']} A: {qa['a'][0]} \"\n",
    "                )\n",
    "                qa_amount += 1\n",
    "\n",
    "        source_text = f\"สร้าง {qa_amount} คำถาม: {context}\"\n",
    "        source_list.append(source_text)\n",
    "        target_list.append(target_text)\n",
    "    \n",
    "    except KeyError as e:\n",
    "        print(f\"Error: {e} (Error on 'detail' is expected because of the dataset structure\")\n",
    "\n",
    "dataframe = pd.DataFrame({\"source_text\": source_list, \"target_text\": target_list})\n",
    "\n",
    "train_df = dataframe.sample(frac=0.85, random_state=20)\n",
    "test_df = dataframe.drop(train_df.index)"
   ]
  },
  {
   "cell_type": "markdown",
   "metadata": {},
   "source": [
    "## Training"
   ]
  },
  {
   "cell_type": "code",
   "execution_count": null,
   "metadata": {},
   "outputs": [],
   "source": [
    "from simplet5 import SimpleT5\n",
    "\n",
    "model = SimpleT5()\n",
    "model.from_pretrained(model_type=\"mt5\", model_name=\"google/mt5-small\")\n",
    "\n",
    "model.train(train_df=train_df,\n",
    "          eval_df=test_df, \n",
    "          source_max_token_len=1024, \n",
    "          target_max_token_len=1024, \n",
    "          batch_size=1, max_epochs=20, use_gpu=True)"
   ]
  },
  {
   "cell_type": "markdown",
   "metadata": {},
   "source": [
    "## Load trained model"
   ]
  },
  {
   "cell_type": "code",
   "execution_count": null,
   "metadata": {},
   "outputs": [],
   "source": [
    "# let's load the trained model for inferencing:\n",
    "model.load_model(\"mt5\",\"\", use_gpu=True)\n",
    "\n",
    "text_to_summarize=\"\"\"สร้าง 3 คำถาม: ดันเจียนซีจ (อังกฤษ: Dungeon Siege) เป็นเกมแอ็กชันเล่นตามบทบาทที่พัฒนาโดยแก๊สเพาเวิร์ดเกมส์ ซึ่งไมโครซอฟท์ได้จัดจำหน่ายบนแพลตฟอร์มไมโครซอฟท์ วินโดวส์ ในเดือนเมษายน ค.ศ. 2002 และเดสทิเนียร์ได้จัดจำหน่ายบนแพลตฟอร์มแมคโอเอสเท็นในปีถัดไป โดยมีฉากอยู่ในอาณาจักรยุคกลางสมมติ ชื่อ เอห์บ เกมนี้ยังจัดเป็นแนวแฟนตาซีระดับสูงที่เดินเรื่องตามชาวไร่หนุ่มคนหนึ่งและเพื่อนร่วมทางขณะที่พวกเขาออกเดินทางเพื่อกำจัดกองกำลังที่รุกราน ในตอนแรก กลุ่มตัวเอกเพียงต้องการเตือนเมืองใกล้เคียงเกี่ยวกับการรุกรานของเผ่าพันธุ์สิ่งมีชีวิตที่ชื่อครุก และในอีกไม่นาน ชาวไร่คนดังกล่าวและเพื่อนร่วมทางกับเขาตกอยู่ในสถานการณ์หาทางเอาชนะเผ่าพันธุ์อื่นที่เรียกว่าเซกอย่างหลีกเลี่ยงไม่ได้ ซึ่งฟื้นคืนพลังใหม่หลังจากถูกคุมขังอยู่ 300 ปี โลกของดันเจียนซีจไม่ใช้ระบบเลเวลเหมือนกับวิดีโอเกมเล่นตามบทบาทอื่น ๆ ในยุคนั้น หากแต่เป็นพื้นที่เดียวที่ต่อเนื่อง โดยปราศจากการโหลดหน้าจอ ซึ่งผู้เล่นเดินทางผ่านเพื่อต่อสู้กับฝูงศัตรู นอกจากนี้ แทนที่จะกำหนดคลาสตัวละครและควบคุมตัวละครทั้งหมดในกลุ่มด้วยตนเอง ผู้เล่นจะควบคุมกลยุทธ์และอาวุธ ตลอดจนการใช้เวทมนตร์โดยรวมของพวกเขา ซึ่งกำกับการเติบโตของตัวละคร\n",
    "\"\"\"\n",
    "\n",
    "print(model.predict(text_to_summarize, max_length=1024)[0])"
   ]
  }
 ],
 "metadata": {
  "interpreter": {
   "hash": "599dbc988367df75f394341c14191e4f45ca195597a9b0aa004fda5844c2c20f"
  },
  "kernelspec": {
   "display_name": "Python 3.9.7 ('base')",
   "language": "python",
   "name": "python3"
  },
  "language_info": {
   "codemirror_mode": {
    "name": "ipython",
    "version": 3
   },
   "file_extension": ".py",
   "mimetype": "text/x-python",
   "name": "python",
   "nbconvert_exporter": "python",
   "pygments_lexer": "ipython3",
   "version": "3.9.7"
  },
  "orig_nbformat": 4
 },
 "nbformat": 4,
 "nbformat_minor": 2
}
