{
  "cells": [
    {
      "cell_type": "markdown",
      "metadata": {
        "id": "vbwjJF8nAHrn"
      },
      "source": [
        "# mT5 for Thai QA\n",
        "This is notebook detailing how to finetune **mT5 for question-generation in the Thai language!** Specifically this notebook will train the **mT5-small-thai-e2e-qg-aug-numsep.**\n",
        "\n",
        "> **IMPORTANT**: This project is data-centric, hence the fact that the evaluation only exists in this notebook. When I was training, I simply copy-pasted the data from the other training-scripts, load it up and evaluated it in the same way.\n",
        "\n",
        "First, we will mount our google drive so our models don't get deleted (╯°□°)╯︵ ┻━┻ \n"
      ]
    },
    {
      "cell_type": "code",
      "execution_count": null,
      "metadata": {
        "colab": {
          "base_uri": "https://localhost:8080/"
        },
        "id": "_ecgcLxQBIym",
        "outputId": "45246293-8b9a-43cf-8ab1-60a8eeeb18e6"
      },
      "outputs": [],
      "source": [
        "from google.colab import drive\n",
        "\n",
        "drive.mount(\"/content/drive\")\n"
      ]
    },
    {
      "cell_type": "markdown",
      "metadata": {
        "id": "i8Pj_wDYBKS4"
      },
      "source": [
        "# Setup\n",
        "\n",
        "Install dependencies that we need in order to run/train our model"
      ]
    },
    {
      "cell_type": "markdown",
      "metadata": {},
      "source": [
        "## Install dependencies"
      ]
    },
    {
      "cell_type": "code",
      "execution_count": null,
      "metadata": {
        "colab": {
          "base_uri": "https://localhost:8080/"
        },
        "id": "Oy4QtOY3AHrq",
        "outputId": "054c2d23-0627-4b02-badc-6b984dcc40d0"
      },
      "outputs": [],
      "source": [
        "# Remove \"sample_data\" in colab\n",
        "!rm -rf sample_data\n",
        "# Solve some protobuf problems\n",
        "!export PROTOCOL_BUFFERS_PYTHON_IMPLEMENTATION='python'\n",
        "\n",
        "## Install dependencies\n",
        "%pip install torch ijson pandas torchmetrics lightning-bolts transformers sentencepiece protobuf beautifulsoup4 pytorch-lightning \n",
        "%pip install pythainlp epitran\n",
        "%pip install -U nltk\n",
        "%pip install wandb"
      ]
    },
    {
      "cell_type": "markdown",
      "metadata": {
        "id": "azBzzH6B8Qvs"
      },
      "source": [
        "And then login to wandb to keep track of our training"
      ]
    },
    {
      "cell_type": "code",
      "execution_count": null,
      "metadata": {
        "id": "ExDEcJdo8Qvt"
      },
      "outputs": [],
      "source": [
        "!wandb login"
      ]
    },
    {
      "cell_type": "markdown",
      "metadata": {
        "id": "bXaB7UrtCyNz"
      },
      "source": [
        "Then we will import all the things we need"
      ]
    },
    {
      "cell_type": "code",
      "execution_count": null,
      "metadata": {
        "id": "thZlTjPEC2Hl"
      },
      "outputs": [],
      "source": [
        "import math\n",
        "import urllib.request\n",
        "import os\n",
        "import ijson\n",
        "import json\n",
        "import re\n",
        "from typing import Optional\n",
        "\n",
        "import torch\n",
        "\n",
        "import numpy as np\n",
        "import pandas as pd\n",
        "import pytorch_lightning as pl\n",
        "from pytorch_lightning.callbacks.early_stopping import EarlyStopping\n",
        "from pytorch_lightning.loggers import WandbLogger\n",
        "\n",
        "\n",
        "from zipfile import ZipFile\n",
        "from bs4 import BeautifulSoup\n",
        "from transformers import (\n",
        "    MT5ForConditionalGeneration,\n",
        "    MT5TokenizerFast,\n",
        ")\n"
      ]
    },
    {
      "cell_type": "markdown",
      "metadata": {
        "id": "m1xgys6NAHrt"
      },
      "source": [
        "# Gather & Process datasets\n",
        "- xquad-thai\n",
        "- iapp-wiki-qa-dataset\n",
        "- thaiqa"
      ]
    },
    {
      "cell_type": "code",
      "execution_count": null,
      "metadata": {
        "colab": {
          "base_uri": "https://localhost:8080/"
        },
        "id": "B1zSGe8oW-nc",
        "outputId": "db875c3d-697b-4649-e36e-6d34020d4678"
      },
      "outputs": [],
      "source": [
        "def download_dataset(url, file_name):\n",
        "    urllib.request.urlretrieve(\n",
        "        url,\n",
        "        os.path.join(\"dataset/\", file_name),\n",
        "        reporthook=(\n",
        "            lambda count, block, total: print(\n",
        "                f\"Downloading {file_name}: {math.floor((count * block) / total * 100)}%\",\n",
        "                end=\"\\r\",\n",
        "            )\n",
        "        ),\n",
        "    )\n",
        "    print(f\"Downloaded {file_name} from {url}\")\n",
        "\n",
        "\n",
        "# Check if the dataset already exists\n",
        "if not (\n",
        "    os.path.exists(\"dataset/xquad.json\")\n",
        "    and os.path.exists(\"dataset/iapp-thai-wikipedia-qa.json\")\n",
        "):\n",
        "    os.mkdir(\"dataset\")\n",
        "    # Download all datasets\n",
        "    download_dataset(\n",
        "        \"https://github.com/deepmind/xquad/raw/master/xquad.th.json\", \"xquad.json\"\n",
        "    )\n",
        "    download_dataset(\n",
        "        \"https://raw.githubusercontent.com/iapp-technology/iapp-wiki-qa-dataset/main/iapp-thai-wikipedia-qa-1961-docs-9170-questions.json\",\n",
        "        \"iapp-thai-wikipedia-qa.json\",\n",
        "    )\n",
        "    download_dataset(\n",
        "        \"https://github.com/PyThaiNLP/thaiqa_squad/raw/main/data.zip\", \"thaiqa.zip\"\n",
        "    )\n",
        "    with ZipFile(\"dataset/thaiqa.zip\") as zipfile:\n",
        "        os.mkdir(\"dataset/thaiqa\")\n",
        "        zipfile.extractall(\"dataset/thaiqa/\")\n"
      ]
    },
    {
      "cell_type": "markdown",
      "metadata": {},
      "source": [
        "Load the data into memory!"
      ]
    },
    {
      "cell_type": "code",
      "execution_count": null,
      "metadata": {
        "id": "CkNR3MnNAHrt"
      },
      "outputs": [],
      "source": [
        "# This list will store all the Q&A\n",
        "question_list = []\n",
        "context_list = []\n",
        "target_list = []\n",
        "\n",
        "# Start cleaning data\n",
        "squad = open(os.path.join(\"dataset/\", \"xquad.json\"))\n",
        "iapp = open(os.path.join(\"dataset/\", \"iapp-thai-wikipedia-qa.json\"))\n",
        "iapp_keys = open(os.path.join(\"dataset/\", \"iapp-thai-wikipedia-qa.json\"))\n",
        "thaiqa = open(os.path.join(\"dataset/thaiqa/data/train.jsonl\"))\n",
        "\n",
        "squad_json = ijson.items(squad, \"data.item\")\n",
        "iapp_json = json.load(iapp)\n",
        "iapp_keys = ijson.kvitems(iapp_keys, \"db\")\n",
        "thaiqa_df = pd.read_json(thaiqa, lines=True)\n",
        "\n",
        "# Get data from xquad\n",
        "for obj in squad_json:\n",
        "    paragraphs = obj[\"paragraphs\"]\n",
        "    for p in paragraphs:\n",
        "        context = p[\"context\"].strip()\n",
        "        qas = [p for p in p[\"qas\"] if len(p) > 0]\n",
        "        for qa in qas:\n",
        "            context_list.append(context)\n",
        "            question_list.append(qa['question'].strip())\n",
        "            target_list.append(qa['answers'][0]['text'].strip())\n",
        "        \n",
        "\n",
        "# Get dataset from iapp\n",
        "for key in iapp_keys:\n",
        "    try:\n",
        "        obj = iapp_json[\"db\"][key[0]]\n",
        "        context = obj[\"detail\"].strip()\n",
        "        qas = obj[\"QA\"]\n",
        "\n",
        "        for _, qa in enumerate(qas):\n",
        "            if len(qa[\"a\"]) != 0 and len(qa[\"q\"]) != 0:\n",
        "                context_list.append(context)\n",
        "                question_list.append(qa['q'].strip())\n",
        "                target_list.append(qa['a'][0].strip())\n",
        "\n",
        "    except KeyError as e:\n",
        "        # Due to the dataset, there will always be a keyerror on \"detail\" which is the dataset's metadata\n",
        "        if str(e) != \"'detail'\":\n",
        "            print(f\"KeyError: {e}\")\n",
        "\n",
        "# Get data from thaiqa\n",
        "article_ids = set(thaiqa_df[\"article_id\"])\n",
        "for id in article_ids:\n",
        "    questions = thaiqa_df[thaiqa_df[\"article_id\"] == id]\n",
        "\n",
        "    # Remove html markup\n",
        "    soup = BeautifulSoup(questions[\"context\"].iloc[0])\n",
        "\n",
        "    # Remove parenthesis because some are empty\n",
        "    context = re.sub(r\"\\(\\)\", \"\", soup.text)\n",
        "\n",
        "    # Remove double spaces resulting from removing parenthesis\n",
        "    context = re.sub(r\"\\s\\s+\", \" \", context).strip()\n",
        "\n",
        "    for _, question in questions.iterrows():\n",
        "        context_list.append(context)\n",
        "        question_list.append(question['question'].strip())\n",
        "        target_list.append(question[\"answer\"].strip())\n",
        "\n",
        "dataframe = pd.DataFrame({\"question\": question_list, \"context\": context_list, \"target_text\": target_list})\n"
      ]
    },
    {
      "cell_type": "markdown",
      "metadata": {
        "id": "yw9omjA6Hngr"
      },
      "source": [
        "And then split our dataframe into train, valid, and test sets."
      ]
    },
    {
      "cell_type": "code",
      "execution_count": null,
      "metadata": {
        "id": "-9XrtGfkHs7e"
      },
      "outputs": [],
      "source": [
        "index_train_split = math.floor(dataframe.shape[0] * 0.8)\n",
        "train_df, valid_test = (\n",
        "    dataframe.iloc[\n",
        "        :index_train_split,\n",
        "    ],\n",
        "    dataframe.iloc[\n",
        "        index_train_split:,\n",
        "    ],\n",
        ")\n",
        "\n",
        "index_test_split = math.floor(valid_test.shape[0] * 0.5)\n",
        "valid_df, test_df = (\n",
        "    valid_test.iloc[\n",
        "        :index_test_split,\n",
        "    ],\n",
        "    valid_test.iloc[\n",
        "        index_test_split:,\n",
        "    ],\n",
        ")\n"
      ]
    },
    {
      "cell_type": "markdown",
      "metadata": {
        "id": "8VbYBMzdAHry"
      },
      "source": [
        "# Training\n",
        "Now we can finally get to the nitty-gritty and start defining our training loops"
      ]
    },
    {
      "cell_type": "code",
      "execution_count": null,
      "metadata": {
        "colab": {
          "base_uri": "https://localhost:8080/"
        },
        "id": "atE8E0FNAHry",
        "outputId": "23aeeaf0-61c5-4632-9fa8-ee92d2230c4f"
      },
      "outputs": [],
      "source": [
        "pl.seed_everything(16)\n",
        "torch.cuda.empty_cache()\n",
        "\n",
        "\n",
        "class MT5Dataset(torch.utils.data.Dataset):\n",
        "    def __init__(self, df, tokenizer):\n",
        "        self.data = df.reset_index()\n",
        "        self.tokenizer = tokenizer\n",
        "        self.source_max_len = 1024\n",
        "        self.target_max_len = 1024\n",
        "\n",
        "    def __len__(self):\n",
        "        return len(self.data)\n",
        "\n",
        "    def __getitem__(self, idx):\n",
        "        data_row = self.data.iloc[idx]\n",
        "        question, context, target = data_row[\"question\"], data_row[\"context\"], data_row[\"target_text\"]\n",
        "\n",
        "        source_encoding = self.tokenizer(\n",
        "            question,\n",
        "            context,\n",
        "            padding=\"max_length\",\n",
        "            max_length=self.source_max_len,\n",
        "            truncation=True,\n",
        "            add_special_tokens=True,\n",
        "            return_attention_mask=True,\n",
        "            return_tensors=\"pt\",\n",
        "        )\n",
        "\n",
        "        target_encoding = self.tokenizer(\n",
        "            target,\n",
        "            padding=\"max_length\",\n",
        "            max_length=self.target_max_len,\n",
        "            truncation=True,\n",
        "            add_special_tokens=True,\n",
        "            return_attention_mask=True,\n",
        "            return_tensors=\"pt\",\n",
        "        )\n",
        "\n",
        "        # Ensure labels are correct (see huggingface T5 training documentation)\n",
        "        labels = target_encoding.input_ids\n",
        "        labels[labels == self.tokenizer.pad_token_id] = -100\n",
        "\n",
        "        return dict(\n",
        "            input_ids=source_encoding.input_ids.flatten(),\n",
        "            attention_mask=source_encoding.attention_mask.flatten(),\n",
        "            decoder_input_ids=labels.flatten(),\n",
        "            decoder_attention_mask=target_encoding.attention_mask.flatten(),\n",
        "        )\n",
        "\n",
        "\n",
        "class MT5DataModule(pl.LightningDataModule):\n",
        "    def __init__(\n",
        "        self,\n",
        "        tokenizer,\n",
        "        train_df,\n",
        "        valid_df,\n",
        "        test_df,\n",
        "        batch_size: int = 1,\n",
        "        num_workers: int = 2,\n",
        "    ):\n",
        "        super().__init__()\n",
        "        self.batch_size = batch_size\n",
        "        self.train_df = train_df\n",
        "        self.valid_df = valid_df\n",
        "        self.test_df = test_df\n",
        "        self.tokenizer = tokenizer\n",
        "\n",
        "    def setup(self, stage: Optional[str] = None, batch_size=1):\n",
        "        self.batch_size = batch_size\n",
        "        if stage == \"fit\" or stage is None:\n",
        "            self.train_data = MT5Dataset(self.train_df, self.tokenizer)\n",
        "            self.valid_data = MT5Dataset(self.valid_df, self.tokenizer)\n",
        "\n",
        "        if stage == \"test\" or stage is None:\n",
        "            self.test_data = MT5Dataset(self.test_df, self.tokenizer)\n",
        "\n",
        "    def train_dataloader(self):\n",
        "        return torch.utils.data.DataLoader(\n",
        "            self.train_data, batch_size=self.batch_size, shuffle=True\n",
        "        )\n",
        "\n",
        "    def val_dataloader(self):\n",
        "        return torch.utils.data.DataLoader(\n",
        "            self.valid_data, batch_size=self.batch_size, shuffle=False\n",
        "        )\n",
        "\n",
        "    def test_dataloader(self):\n",
        "        return torch.utils.data.DataLoader(\n",
        "            self.test_data, batch_size=self.batch_size, shuffle=False\n",
        "        )\n",
        "\n",
        "\n",
        "class MT5Lightning(pl.LightningModule):\n",
        "    def __init__(self, model, tokenizer):\n",
        "        super().__init__()\n",
        "        self.model = model\n",
        "        self.tokenizer = tokenizer\n",
        "        self.avg_training_loss = None\n",
        "        self.avg_val_loss = None\n",
        "\n",
        "    def forward(\n",
        "        self, input_ids, attention_mask, decoder_input_ids, decoder_attention_mask\n",
        "    ):\n",
        "        output = self.model(\n",
        "            input_ids,\n",
        "            attention_mask=attention_mask,\n",
        "            labels=decoder_input_ids,\n",
        "            decoder_attention_mask=decoder_attention_mask,\n",
        "        )\n",
        "        return output.loss, output.logits\n",
        "\n",
        "    def training_step(self, batch, batch_idx):\n",
        "        input_ids = batch[\"input_ids\"]\n",
        "        attention_mask = batch[\"attention_mask\"]\n",
        "        decoder_input_ids = batch[\"decoder_input_ids\"]\n",
        "        decoder_attention_mask = batch[\"decoder_attention_mask\"]\n",
        "\n",
        "        output = self(\n",
        "            input_ids=input_ids,\n",
        "            attention_mask=attention_mask,\n",
        "            decoder_input_ids=decoder_input_ids,\n",
        "            decoder_attention_mask=decoder_attention_mask,\n",
        "        )\n",
        "\n",
        "        self.log(\"loss\", output[0], prog_bar=True, on_step=True, on_epoch=True)\n",
        "\n",
        "        return output[0]\n",
        "\n",
        "    def validation_step(self, batch, batch_idx):\n",
        "        input_ids = batch[\"input_ids\"]\n",
        "        attention_mask = batch[\"attention_mask\"]\n",
        "        decoder_input_ids = batch[\"decoder_input_ids\"]\n",
        "        decoder_attention_mask = batch[\"decoder_attention_mask\"]\n",
        "\n",
        "        output = self(\n",
        "            input_ids=input_ids,\n",
        "            attention_mask=attention_mask,\n",
        "            decoder_input_ids=decoder_input_ids,\n",
        "            decoder_attention_mask=decoder_attention_mask,\n",
        "        )\n",
        "\n",
        "        self.log(\"val_loss\", output[0], prog_bar=True, on_step=True, on_epoch=True)\n",
        "\n",
        "        return output[0]\n",
        "\n",
        "    def test_step(self, batch, batch_idx):\n",
        "        input_ids = batch[\"input_ids\"]\n",
        "        attention_mask = batch[\"attention_mask\"]\n",
        "        decoder_input_ids = batch[\"decoder_input_ids\"]\n",
        "        decoder_attention_mask = batch[\"decoder_attention_mask\"]\n",
        "\n",
        "        output = self(\n",
        "            input_ids=input_ids,\n",
        "            attention_mask=attention_mask,\n",
        "            decoder_input_ids=decoder_input_ids,\n",
        "            decoder_attention_mask=decoder_attention_mask,\n",
        "        )\n",
        "\n",
        "        self.log(\"test_loss\", output.loss, prog_bar=True)\n",
        "\n",
        "        return output.loss\n",
        "\n",
        "    def configure_optimizers(self):\n",
        "        return torch.optim.AdamW(self.parameters(), lr=3e-4)\n",
        "\n",
        "    def training_epoch_end(self, training_step_outputs):\n",
        "        self.avg_training_loss = np.round(\n",
        "            torch.mean(torch.stack([x[\"loss\"] for x in training_step_outputs])).item(),\n",
        "            4,\n",
        "        )\n",
        "        path = \"\"\n",
        "        if os.path.exists(\"drive\"):\n",
        "            path += \"drive/MyDrive/mt5-thai-qg/\"\n",
        "        else:\n",
        "            path += \"outputs/\"\n",
        "        path += f\"mt5-qg-epoch-{self.current_epoch}-train-loss-{self.avg_training_loss}-val-loss-{self.avg_val_loss}\"\n",
        "        self.tokenizer.save_pretrained(path)\n",
        "        self.model.save_pretrained(path)\n",
        "\n",
        "    def validation_epoch_end(self, validation_step_outputs):\n",
        "        _loss = [x.cpu() for x in validation_step_outputs]\n",
        "        self.avg_val_loss = np.round(\n",
        "            torch.mean(torch.stack(_loss)).item(),\n",
        "            4,\n",
        "        )\n"
      ]
    },
    {
      "cell_type": "markdown",
      "metadata": {
        "id": "47el2aZzWinO"
      },
      "source": [
        "## Actually Train\n",
        "Start actually training"
      ]
    },
    {
      "cell_type": "code",
      "execution_count": null,
      "metadata": {
        "colab": {
          "base_uri": "https://localhost:8080/",
          "height": 445,
          "referenced_widgets": [
            "e2057f29fb524ddb8067319b5b7fe976",
            "e1f0483aada4478f913296c458682f57",
            "e23333bcdc344f5dbc025dc0b5d5720f",
            "25a352b7e3db4d94b98a313e504ee229",
            "4245cbec68954714a655813b2041d6ab",
            "86e44856bd5c4ca08e7f3d635264c94a",
            "205f85b08c574acf97aeff29ef5b9ac3",
            "1a86d75276544f108cdff7a975f6be11",
            "23a51164e52b44b2a668ba5ffb9cb3d1",
            "571c4e722c27492dab23b837fba4a5d5",
            "736451e8c85947e5bb6d57cabad09eea",
            "e8d3943d458a43e5a9c28a4c0e478704",
            "d070834d9db8489ea47cae4e06eb3141",
            "d7f6e3322e1f42a0840a4adcf7b01a1f",
            "613e53da433a4155b4d86f7aa9ef925d",
            "5379187705694e8d8b17e961cb3645be",
            "856c6c53a587463fa1731db511daa50f",
            "1f8f9567c8d44972817bfdcf86dd87ac",
            "ea0eb9be0329489b8e8b6e76afaf078a",
            "760a47d6bd81431c9560056c36bdb60e",
            "638fd5a8c37e4e3b97126222b7bfa39a",
            "3e19e1555a7a4abab5c25299205005e7"
          ]
        },
        "id": "_8JCn9TOXBkZ",
        "outputId": "45c50081-df6e-467c-def9-6fcb9d4b6823"
      },
      "outputs": [],
      "source": [
        "model = MT5ForConditionalGeneration.from_pretrained(\n",
        "    \"google/mt5-small\", return_dict=True\n",
        ")\n",
        "tokenizer = MT5TokenizerFast.from_pretrained(\"google/mt5-small\")\n",
        "dataset = MT5DataModule(tokenizer, train_df, valid_df, test_df, batch_size=5)\n",
        "\n",
        "MT5Model = MT5Lightning(model, tokenizer)\n",
        "\n",
        "callbacks = []\n",
        "callbacks.append(EarlyStopping(monitor=\"val_loss\", mode=\"min\"))\n",
        "\n",
        "wandb_logger = WandbLogger(\n",
        "    project=\"Thai-QG-for-QA-Research\", name=\"mT5-small-thai-qa\"\n",
        ")\n",
        "\n",
        "trainer = pl.Trainer(\n",
        "    accelerator=\"gpu\",\n",
        "    devices=1,\n",
        "    logger=wandb_logger,\n",
        "    max_epochs=20,\n",
        "    log_every_n_steps=1,\n",
        "    callbacks=callbacks,\n",
        "    accumulate_grad_batches=20\n",
        ")\n",
        "\n",
        "trainer.fit(MT5Model, dataset)\n"
      ]
    },
    {
      "cell_type": "markdown",
      "metadata": {
        "id": "ZYHPsomEAHr1"
      },
      "source": [
        "# Testing & Inferencing\n",
        "Now we will load up our model and do some inference."
      ]
    },
    {
      "cell_type": "markdown",
      "metadata": {
        "id": "00J8W8Hze71C"
      },
      "source": [
        "## Inferencing"
      ]
    },
    {
      "cell_type": "code",
      "execution_count": null,
      "metadata": {
        "colab": {
          "base_uri": "https://localhost:8080/"
        },
        "id": "Q0LBea3SAHr2",
        "outputId": "ebc88be7-c7bf-4561-ddb8-5c5d9f3cd1c6"
      },
      "outputs": [],
      "source": [
        "model = MT5ForConditionalGeneration.from_pretrained(\n",
        "    \"drive/MyDrive/mt5-thai-qg/mt5-qg-epoch-5-train-loss-0.855-val-loss-0.9273\",\n",
        "    return_dict=True,\n",
        ")\n",
        "tokenizer = MT5TokenizerFast.from_pretrained(\n",
        "    \"drive/MyDrive/mt5-thai-qg/mt5-qg-epoch-5-train-loss-0.855-val-loss-0.9273\"\n",
        ")\n",
        "\n",
        "model.cuda()\n"
      ]
    },
    {
      "cell_type": "code",
      "execution_count": null,
      "metadata": {
        "id": "_NX1m4b-itN-"
      },
      "outputs": [],
      "source": [
        "def predict(text):\n",
        "    with torch.no_grad():\n",
        "        input_ids = tokenizer.encode(text, return_tensors=\"pt\", add_special_tokens=True)\n",
        "\n",
        "        input_ids = input_ids.cuda()\n",
        "\n",
        "        generated_ids = model.generate(\n",
        "            input_ids=input_ids,\n",
        "            num_beams=3,\n",
        "            max_length=10000,\n",
        "            repetition_penalty=2.5,\n",
        "            length_penalty=1.0,\n",
        "            early_stopping=True,\n",
        "            top_p=50,\n",
        "            top_k=20,\n",
        "            num_return_sequences=1,\n",
        "        )\n",
        "\n",
        "        preds = [\n",
        "            tokenizer.decode(\n",
        "                g,\n",
        "                skip_special_tokens=True,\n",
        "                clean_up_tokenization_spaces=True,\n",
        "            )\n",
        "            for g in generated_ids\n",
        "        ]\n",
        "    return preds\n"
      ]
    },
    {
      "cell_type": "markdown",
      "metadata": {
        "id": "Bs9gTmzde71D"
      },
      "source": [
        "Run this cell below to try out the model!"
      ]
    },
    {
      "cell_type": "code",
      "execution_count": null,
      "metadata": {
        "colab": {
          "base_uri": "https://localhost:8080/"
        },
        "id": "QD7ZlxCLe71E",
        "outputId": "e8edfe03-82b3-43d3-91b6-380f2d15b7d7"
      },
      "outputs": [],
      "source": [
        "text_to_predict = \"\"\"สร้าง 5 คำถาม: เฟซบุ๊ก (อังกฤษ: Facebook) เป็นบริการเครือข่ายสังคมสัญชาติอเมริกัน สำนักงานใหญ่อยู่ที่ เมนโลพาร์ก รัฐแคลิฟอร์เนีย เฟซบุ๊กก่อตั้งเมื่อวันพุธที่ 4 กุมภาพันธ์ ค.ศ. 2004 โดยมาร์ก ซักเคอร์เบิร์ก และเพื่อนร่วมห้องภายในมหาวิทยาลัย และเหล่าเพื่อนในมหาวิทยาลัยฮาร์วาร์ด พร้อมโดยสมาชิกเพื่อนผู้ก่อตั้ง Eduardo Saverin, Andrew McCollum, Dustin Moskovitz และ Chris Hughes ในท้ายที่สุดเว็บไซต์มีการเข้าชมอย่างจำกัด ทำให้เหล่านักศึกษาภายในมหาวิทยาลัยฮาร์วาร์ด แต่ภายหลังได้ขยายเพิ่มจำนวนในมหาวิทยาลัย ในพื้นที่บอสตัน ไอวีลีก และมหาวิทยาลัยสแตนฟอร์ด และค่อย ๆ รับรองมหาวิทยาลัยอื่นต่าง ๆ และต่อมาก็รับรองโรงเรียนมัธยมศึกษา โดยเฟซบุ๊กให้การอนุญาตให้เยาวชนอายุต่ำกว่า 13 ปีทั่วโลกสามารถสมัครสมาชิกได้ภายในเว็บไซต์ โดยไม่ต้องอ้างอิงหลักฐานใด ๆ ใน ค.ศ. 2020 เฟซบุ๊กอ้างว่ามีผู้ใช้ที่ยังคงใช้งานรายเดือนที่ 28 พันล้านคน โดยมีผู้ใช้งานทั่วโลกมากเป็นอันดับ 7 และเป็นแอปโทรศัพท์ที่มีคนโหลดมากที่สุดในคริสต์ทศวรรษ 2010\"\"\"\n",
        "predicted = predict(text_to_predict)\n",
        "predicted\n"
      ]
    },
    {
      "cell_type": "markdown",
      "metadata": {
        "id": "DYilwSaXe71F"
      },
      "source": [
        "## Evaluate Our Model"
      ]
    },
    {
      "cell_type": "markdown",
      "metadata": {
        "id": "7ayStuz4e71F"
      },
      "source": [
        "Setup our dataset for testm mode"
      ]
    },
    {
      "cell_type": "code",
      "execution_count": null,
      "metadata": {
        "id": "ch5VFBFEjFHC"
      },
      "outputs": [],
      "source": [
        "dataset = MT5DataModule(tokenizer, train_df, valid_df, test_df, batch_size=4)\n",
        "dataset.setup(stage=\"test\")\n",
        "test_loader = dataset.test_dataloader()\n"
      ]
    },
    {
      "cell_type": "markdown",
      "metadata": {
        "id": "kcQobh-Ze71G"
      },
      "source": [
        "Define a preprocessing function so that our metrics don't die"
      ]
    },
    {
      "cell_type": "code",
      "execution_count": null,
      "metadata": {
        "id": "4nYE23SrxY1Z"
      },
      "outputs": [],
      "source": [
        "from pythainlp import word_tokenize\n",
        "\n",
        "\n",
        "def pre_process(texts):\n",
        "    final = []\n",
        "    for text in texts:\n",
        "        final.append(\" \".join(word_tokenize(text, keep_whitespace=False)))\n",
        "    return final\n"
      ]
    },
    {
      "cell_type": "markdown",
      "metadata": {
        "id": "5Wffoj8Ee71I"
      },
      "source": [
        "Our evaluation will use the following metrics:\n",
        "* ROUGE\n",
        "* CHRF\n",
        "* GLEU\n",
        "* METEOR\n",
        "\n",
        "Begin the evaluation!"
      ]
    },
    {
      "cell_type": "code",
      "execution_count": null,
      "metadata": {
        "colab": {
          "base_uri": "https://localhost:8080/"
        },
        "id": "W46w_hzMekps",
        "outputId": "7316a08d-78ee-4c17-9eb6-203a4c2c689a"
      },
      "outputs": [],
      "source": [
        "import nltk\n",
        "from torchmetrics.text.rouge import ROUGEScore\n",
        "from torchmetrics import CHRFScore, BLEUScore\n",
        "from nltk.translate import meteor_score, gleu_score\n",
        "\n",
        "model.cuda()\n",
        "\n",
        "nltk.download(\"wordnet\")\n",
        "nltk.download(\"omw-1.4\")\n",
        "nltk.download(\"punkt\")\n",
        "\n",
        "rouge = ROUGEScore()\n",
        "chrf = CHRFScore()\n",
        "bleu = BLEUScore(smooth=True, weights=(0.25, 0.25, 0.25, 0.25))\n",
        "\n",
        "meteor_avg = 0\n",
        "gleu_avg = 0\n",
        "\n",
        "labels_collect = []\n",
        "preds_collect = []\n",
        "\n",
        "for batch in test_loader:\n",
        "    generated_ids = model.generate(\n",
        "        input_ids=batch[\"input_ids\"].cuda(),\n",
        "        num_beams=2,\n",
        "        max_length=1024,\n",
        "        repetition_penalty=2.5,\n",
        "        length_penalty=1.0,\n",
        "        early_stopping=True,\n",
        "        top_p=50,\n",
        "        top_k=0.95,\n",
        "        num_return_sequences=1,\n",
        "    )\n",
        "\n",
        "    preds = [\n",
        "        tokenizer.decode(\n",
        "            g,\n",
        "            skip_special_tokens=True,\n",
        "            clean_up_tokenization_spaces=True,\n",
        "        )\n",
        "        for g in generated_ids\n",
        "    ]\n",
        "\n",
        "    batch[\"decoder_input_ids\"][\n",
        "        batch[\"decoder_input_ids\"] == -100\n",
        "    ] = tokenizer.pad_token_id\n",
        "\n",
        "    labels = [\n",
        "        tokenizer.decode(\n",
        "            g,\n",
        "            skip_special_tokens=True,\n",
        "            clean_up_tokenization_spaces=True,\n",
        "        )\n",
        "        for g in batch[\"decoder_input_ids\"]\n",
        "    ]\n",
        "\n",
        "    preds = pre_process(preds)\n",
        "    labels = pre_process(labels)\n",
        "\n",
        "    for p, l in zip(preds, labels):\n",
        "        meteor_avg += meteor_score.single_meteor_score(p.split(\" \"), l.split(\" \"))\n",
        "        gleu_avg += gleu_score.sentence_gleu([l.split(\" \")], p.split(\" \"))\n",
        "\n",
        "    bleu(preds, [labels])\n",
        "    chrf(preds, [labels])\n",
        "    rouge(preds, labels)\n",
        "    preds_collect.append(preds)\n",
        "    labels_collect.append(labels)\n",
        "\n",
        "print(\"------\")\n",
        "print(f\"Meteor: {meteor_avg / (len(test_loader))}\")\n",
        "print(f\"GLEU: {gleu_avg / (len(test_loader))}\")\n",
        "print(f\"BLEU: {bleu.compute().item()}\")\n",
        "print(f\"CHRF: {chrf.compute().item()}\")\n",
        "print(f\"ROUGE: {rouge.compute()}\")"
      ]
    },
    {
      "cell_type": "markdown",
      "metadata": {
        "id": "C3eZkafpe71J"
      },
      "source": [
        "# Misc\n",
        "Below are some other useful chunks of code"
      ]
    },
    {
      "cell_type": "markdown",
      "metadata": {
        "id": "rMVz2qmLe71K"
      },
      "source": [
        "## Export prediction & labels"
      ]
    },
    {
      "cell_type": "code",
      "execution_count": null,
      "metadata": {
        "id": "4iOPRt-v-tad"
      },
      "outputs": [],
      "source": [
        "label_final = [i for x in labels_collect for i in x]\n",
        "pred_final = [i for x in preds_collect for i in x]\n",
        "\n",
        "\n",
        "export = pd.DataFrame(\n",
        "    data=zip(label_final, pred_final), columns=[\"Labels\", \"Predictions\"]\n",
        ")\n",
        "export.to_json(\"output_finetuned_trained.json\")\n"
      ]
    },
    {
      "cell_type": "markdown",
      "metadata": {
        "id": "cJhICYtQe71L"
      },
      "source": [
        "## Zip up Outputs\n",
        "Zip up the outputs & logs folder (with the models) to prepare them for exporting using zstd.\n",
        "\n",
        "### Installing dependencies"
      ]
    },
    {
      "cell_type": "code",
      "execution_count": null,
      "metadata": {
        "id": "-K8XyRk4e71L"
      },
      "outputs": [],
      "source": [
        "!apt install tar zstd"
      ]
    },
    {
      "cell_type": "markdown",
      "metadata": {
        "id": "jVktmw5le71L"
      },
      "source": [
        "### Zipping up everything"
      ]
    },
    {
      "cell_type": "code",
      "execution_count": null,
      "metadata": {
        "id": "v1S0A_Cke71M"
      },
      "outputs": [],
      "source": [
        "!tar -c -I \"zstd -19 -T0\" -f \"mt5-thai-qg.tar.zst\" outputs/ lightning_logs/"
      ]
    }
  ],
  "metadata": {
    "accelerator": "GPU",
    "colab": {
      "collapsed_sections": [],
      "name": "mT5_train_thai (7).ipynb",
      "provenance": []
    },
    "kernelspec": {
      "display_name": "Python 3.9.12 ('ml')",
      "language": "python",
      "name": "python3"
    },
    "language_info": {
      "codemirror_mode": {
        "name": "ipython",
        "version": 3
      },
      "file_extension": ".py",
      "mimetype": "text/x-python",
      "name": "python",
      "nbconvert_exporter": "python",
      "pygments_lexer": "ipython3",
      "version": "3.9.12"
    },
    "orig_nbformat": 4,
    "vscode": {
      "interpreter": {
        "hash": "cca8007106f6e50d60c567d5a32274a185423d15f47cc2c1e0800421363fb71b"
      }
    },
    "widgets": {
      "application/vnd.jupyter.widget-state+json": {
        "1a86d75276544f108cdff7a975f6be11": {
          "model_module": "@jupyter-widgets/base",
          "model_module_version": "1.2.0",
          "model_name": "LayoutModel",
          "state": {
            "_model_module": "@jupyter-widgets/base",
            "_model_module_version": "1.2.0",
            "_model_name": "LayoutModel",
            "_view_count": null,
            "_view_module": "@jupyter-widgets/base",
            "_view_module_version": "1.2.0",
            "_view_name": "LayoutView",
            "align_content": null,
            "align_items": null,
            "align_self": null,
            "border": null,
            "bottom": null,
            "display": null,
            "flex": null,
            "flex_flow": null,
            "grid_area": null,
            "grid_auto_columns": null,
            "grid_auto_flow": null,
            "grid_auto_rows": null,
            "grid_column": null,
            "grid_gap": null,
            "grid_row": null,
            "grid_template_areas": null,
            "grid_template_columns": null,
            "grid_template_rows": null,
            "height": null,
            "justify_content": null,
            "justify_items": null,
            "left": null,
            "margin": null,
            "max_height": null,
            "max_width": null,
            "min_height": null,
            "min_width": null,
            "object_fit": null,
            "object_position": null,
            "order": null,
            "overflow": null,
            "overflow_x": null,
            "overflow_y": null,
            "padding": null,
            "right": null,
            "top": null,
            "visibility": null,
            "width": null
          }
        },
        "1f8f9567c8d44972817bfdcf86dd87ac": {
          "model_module": "@jupyter-widgets/controls",
          "model_module_version": "1.5.0",
          "model_name": "DescriptionStyleModel",
          "state": {
            "_model_module": "@jupyter-widgets/controls",
            "_model_module_version": "1.5.0",
            "_model_name": "DescriptionStyleModel",
            "_view_count": null,
            "_view_module": "@jupyter-widgets/base",
            "_view_module_version": "1.2.0",
            "_view_name": "StyleView",
            "description_width": ""
          }
        },
        "205f85b08c574acf97aeff29ef5b9ac3": {
          "model_module": "@jupyter-widgets/controls",
          "model_module_version": "1.5.0",
          "model_name": "DescriptionStyleModel",
          "state": {
            "_model_module": "@jupyter-widgets/controls",
            "_model_module_version": "1.5.0",
            "_model_name": "DescriptionStyleModel",
            "_view_count": null,
            "_view_module": "@jupyter-widgets/base",
            "_view_module_version": "1.2.0",
            "_view_name": "StyleView",
            "description_width": ""
          }
        },
        "23a51164e52b44b2a668ba5ffb9cb3d1": {
          "model_module": "@jupyter-widgets/controls",
          "model_module_version": "1.5.0",
          "model_name": "ProgressStyleModel",
          "state": {
            "_model_module": "@jupyter-widgets/controls",
            "_model_module_version": "1.5.0",
            "_model_name": "ProgressStyleModel",
            "_view_count": null,
            "_view_module": "@jupyter-widgets/base",
            "_view_module_version": "1.2.0",
            "_view_name": "StyleView",
            "bar_color": null,
            "description_width": ""
          }
        },
        "25a352b7e3db4d94b98a313e504ee229": {
          "model_module": "@jupyter-widgets/controls",
          "model_module_version": "1.5.0",
          "model_name": "HTMLModel",
          "state": {
            "_dom_classes": [],
            "_model_module": "@jupyter-widgets/controls",
            "_model_module_version": "1.5.0",
            "_model_name": "HTMLModel",
            "_view_count": null,
            "_view_module": "@jupyter-widgets/controls",
            "_view_module_version": "1.5.0",
            "_view_name": "HTMLView",
            "description": "",
            "description_tooltip": null,
            "layout": "IPY_MODEL_571c4e722c27492dab23b837fba4a5d5",
            "placeholder": "​",
            "style": "IPY_MODEL_736451e8c85947e5bb6d57cabad09eea",
            "value": " 553/553 [00:00&lt;00:00, 4.90kB/s]"
          }
        },
        "3e19e1555a7a4abab5c25299205005e7": {
          "model_module": "@jupyter-widgets/controls",
          "model_module_version": "1.5.0",
          "model_name": "DescriptionStyleModel",
          "state": {
            "_model_module": "@jupyter-widgets/controls",
            "_model_module_version": "1.5.0",
            "_model_name": "DescriptionStyleModel",
            "_view_count": null,
            "_view_module": "@jupyter-widgets/base",
            "_view_module_version": "1.2.0",
            "_view_name": "StyleView",
            "description_width": ""
          }
        },
        "4245cbec68954714a655813b2041d6ab": {
          "model_module": "@jupyter-widgets/base",
          "model_module_version": "1.2.0",
          "model_name": "LayoutModel",
          "state": {
            "_model_module": "@jupyter-widgets/base",
            "_model_module_version": "1.2.0",
            "_model_name": "LayoutModel",
            "_view_count": null,
            "_view_module": "@jupyter-widgets/base",
            "_view_module_version": "1.2.0",
            "_view_name": "LayoutView",
            "align_content": null,
            "align_items": null,
            "align_self": null,
            "border": null,
            "bottom": null,
            "display": null,
            "flex": null,
            "flex_flow": null,
            "grid_area": null,
            "grid_auto_columns": null,
            "grid_auto_flow": null,
            "grid_auto_rows": null,
            "grid_column": null,
            "grid_gap": null,
            "grid_row": null,
            "grid_template_areas": null,
            "grid_template_columns": null,
            "grid_template_rows": null,
            "height": null,
            "justify_content": null,
            "justify_items": null,
            "left": null,
            "margin": null,
            "max_height": null,
            "max_width": null,
            "min_height": null,
            "min_width": null,
            "object_fit": null,
            "object_position": null,
            "order": null,
            "overflow": null,
            "overflow_x": null,
            "overflow_y": null,
            "padding": null,
            "right": null,
            "top": null,
            "visibility": null,
            "width": null
          }
        },
        "5379187705694e8d8b17e961cb3645be": {
          "model_module": "@jupyter-widgets/base",
          "model_module_version": "1.2.0",
          "model_name": "LayoutModel",
          "state": {
            "_model_module": "@jupyter-widgets/base",
            "_model_module_version": "1.2.0",
            "_model_name": "LayoutModel",
            "_view_count": null,
            "_view_module": "@jupyter-widgets/base",
            "_view_module_version": "1.2.0",
            "_view_name": "LayoutView",
            "align_content": null,
            "align_items": null,
            "align_self": null,
            "border": null,
            "bottom": null,
            "display": null,
            "flex": null,
            "flex_flow": null,
            "grid_area": null,
            "grid_auto_columns": null,
            "grid_auto_flow": null,
            "grid_auto_rows": null,
            "grid_column": null,
            "grid_gap": null,
            "grid_row": null,
            "grid_template_areas": null,
            "grid_template_columns": null,
            "grid_template_rows": null,
            "height": null,
            "justify_content": null,
            "justify_items": null,
            "left": null,
            "margin": null,
            "max_height": null,
            "max_width": null,
            "min_height": null,
            "min_width": null,
            "object_fit": null,
            "object_position": null,
            "order": null,
            "overflow": null,
            "overflow_x": null,
            "overflow_y": null,
            "padding": null,
            "right": null,
            "top": null,
            "visibility": null,
            "width": null
          }
        },
        "571c4e722c27492dab23b837fba4a5d5": {
          "model_module": "@jupyter-widgets/base",
          "model_module_version": "1.2.0",
          "model_name": "LayoutModel",
          "state": {
            "_model_module": "@jupyter-widgets/base",
            "_model_module_version": "1.2.0",
            "_model_name": "LayoutModel",
            "_view_count": null,
            "_view_module": "@jupyter-widgets/base",
            "_view_module_version": "1.2.0",
            "_view_name": "LayoutView",
            "align_content": null,
            "align_items": null,
            "align_self": null,
            "border": null,
            "bottom": null,
            "display": null,
            "flex": null,
            "flex_flow": null,
            "grid_area": null,
            "grid_auto_columns": null,
            "grid_auto_flow": null,
            "grid_auto_rows": null,
            "grid_column": null,
            "grid_gap": null,
            "grid_row": null,
            "grid_template_areas": null,
            "grid_template_columns": null,
            "grid_template_rows": null,
            "height": null,
            "justify_content": null,
            "justify_items": null,
            "left": null,
            "margin": null,
            "max_height": null,
            "max_width": null,
            "min_height": null,
            "min_width": null,
            "object_fit": null,
            "object_position": null,
            "order": null,
            "overflow": null,
            "overflow_x": null,
            "overflow_y": null,
            "padding": null,
            "right": null,
            "top": null,
            "visibility": null,
            "width": null
          }
        },
        "613e53da433a4155b4d86f7aa9ef925d": {
          "model_module": "@jupyter-widgets/controls",
          "model_module_version": "1.5.0",
          "model_name": "HTMLModel",
          "state": {
            "_dom_classes": [],
            "_model_module": "@jupyter-widgets/controls",
            "_model_module_version": "1.5.0",
            "_model_name": "HTMLModel",
            "_view_count": null,
            "_view_module": "@jupyter-widgets/controls",
            "_view_module_version": "1.5.0",
            "_view_name": "HTMLView",
            "description": "",
            "description_tooltip": null,
            "layout": "IPY_MODEL_638fd5a8c37e4e3b97126222b7bfa39a",
            "placeholder": "​",
            "style": "IPY_MODEL_3e19e1555a7a4abab5c25299205005e7",
            "value": " 357M/1.12G [03:13&lt;00:13, 60.1MB/s]"
          }
        },
        "638fd5a8c37e4e3b97126222b7bfa39a": {
          "model_module": "@jupyter-widgets/base",
          "model_module_version": "1.2.0",
          "model_name": "LayoutModel",
          "state": {
            "_model_module": "@jupyter-widgets/base",
            "_model_module_version": "1.2.0",
            "_model_name": "LayoutModel",
            "_view_count": null,
            "_view_module": "@jupyter-widgets/base",
            "_view_module_version": "1.2.0",
            "_view_name": "LayoutView",
            "align_content": null,
            "align_items": null,
            "align_self": null,
            "border": null,
            "bottom": null,
            "display": null,
            "flex": null,
            "flex_flow": null,
            "grid_area": null,
            "grid_auto_columns": null,
            "grid_auto_flow": null,
            "grid_auto_rows": null,
            "grid_column": null,
            "grid_gap": null,
            "grid_row": null,
            "grid_template_areas": null,
            "grid_template_columns": null,
            "grid_template_rows": null,
            "height": null,
            "justify_content": null,
            "justify_items": null,
            "left": null,
            "margin": null,
            "max_height": null,
            "max_width": null,
            "min_height": null,
            "min_width": null,
            "object_fit": null,
            "object_position": null,
            "order": null,
            "overflow": null,
            "overflow_x": null,
            "overflow_y": null,
            "padding": null,
            "right": null,
            "top": null,
            "visibility": null,
            "width": null
          }
        },
        "736451e8c85947e5bb6d57cabad09eea": {
          "model_module": "@jupyter-widgets/controls",
          "model_module_version": "1.5.0",
          "model_name": "DescriptionStyleModel",
          "state": {
            "_model_module": "@jupyter-widgets/controls",
            "_model_module_version": "1.5.0",
            "_model_name": "DescriptionStyleModel",
            "_view_count": null,
            "_view_module": "@jupyter-widgets/base",
            "_view_module_version": "1.2.0",
            "_view_name": "StyleView",
            "description_width": ""
          }
        },
        "760a47d6bd81431c9560056c36bdb60e": {
          "model_module": "@jupyter-widgets/controls",
          "model_module_version": "1.5.0",
          "model_name": "ProgressStyleModel",
          "state": {
            "_model_module": "@jupyter-widgets/controls",
            "_model_module_version": "1.5.0",
            "_model_name": "ProgressStyleModel",
            "_view_count": null,
            "_view_module": "@jupyter-widgets/base",
            "_view_module_version": "1.2.0",
            "_view_name": "StyleView",
            "bar_color": null,
            "description_width": ""
          }
        },
        "856c6c53a587463fa1731db511daa50f": {
          "model_module": "@jupyter-widgets/base",
          "model_module_version": "1.2.0",
          "model_name": "LayoutModel",
          "state": {
            "_model_module": "@jupyter-widgets/base",
            "_model_module_version": "1.2.0",
            "_model_name": "LayoutModel",
            "_view_count": null,
            "_view_module": "@jupyter-widgets/base",
            "_view_module_version": "1.2.0",
            "_view_name": "LayoutView",
            "align_content": null,
            "align_items": null,
            "align_self": null,
            "border": null,
            "bottom": null,
            "display": null,
            "flex": null,
            "flex_flow": null,
            "grid_area": null,
            "grid_auto_columns": null,
            "grid_auto_flow": null,
            "grid_auto_rows": null,
            "grid_column": null,
            "grid_gap": null,
            "grid_row": null,
            "grid_template_areas": null,
            "grid_template_columns": null,
            "grid_template_rows": null,
            "height": null,
            "justify_content": null,
            "justify_items": null,
            "left": null,
            "margin": null,
            "max_height": null,
            "max_width": null,
            "min_height": null,
            "min_width": null,
            "object_fit": null,
            "object_position": null,
            "order": null,
            "overflow": null,
            "overflow_x": null,
            "overflow_y": null,
            "padding": null,
            "right": null,
            "top": null,
            "visibility": null,
            "width": null
          }
        },
        "86e44856bd5c4ca08e7f3d635264c94a": {
          "model_module": "@jupyter-widgets/base",
          "model_module_version": "1.2.0",
          "model_name": "LayoutModel",
          "state": {
            "_model_module": "@jupyter-widgets/base",
            "_model_module_version": "1.2.0",
            "_model_name": "LayoutModel",
            "_view_count": null,
            "_view_module": "@jupyter-widgets/base",
            "_view_module_version": "1.2.0",
            "_view_name": "LayoutView",
            "align_content": null,
            "align_items": null,
            "align_self": null,
            "border": null,
            "bottom": null,
            "display": null,
            "flex": null,
            "flex_flow": null,
            "grid_area": null,
            "grid_auto_columns": null,
            "grid_auto_flow": null,
            "grid_auto_rows": null,
            "grid_column": null,
            "grid_gap": null,
            "grid_row": null,
            "grid_template_areas": null,
            "grid_template_columns": null,
            "grid_template_rows": null,
            "height": null,
            "justify_content": null,
            "justify_items": null,
            "left": null,
            "margin": null,
            "max_height": null,
            "max_width": null,
            "min_height": null,
            "min_width": null,
            "object_fit": null,
            "object_position": null,
            "order": null,
            "overflow": null,
            "overflow_x": null,
            "overflow_y": null,
            "padding": null,
            "right": null,
            "top": null,
            "visibility": null,
            "width": null
          }
        },
        "d070834d9db8489ea47cae4e06eb3141": {
          "model_module": "@jupyter-widgets/controls",
          "model_module_version": "1.5.0",
          "model_name": "HTMLModel",
          "state": {
            "_dom_classes": [],
            "_model_module": "@jupyter-widgets/controls",
            "_model_module_version": "1.5.0",
            "_model_name": "HTMLModel",
            "_view_count": null,
            "_view_module": "@jupyter-widgets/controls",
            "_view_module_version": "1.5.0",
            "_view_name": "HTMLView",
            "description": "",
            "description_tooltip": null,
            "layout": "IPY_MODEL_856c6c53a587463fa1731db511daa50f",
            "placeholder": "​",
            "style": "IPY_MODEL_1f8f9567c8d44972817bfdcf86dd87ac",
            "value": "Downloading:  31%"
          }
        },
        "d7f6e3322e1f42a0840a4adcf7b01a1f": {
          "model_module": "@jupyter-widgets/controls",
          "model_module_version": "1.5.0",
          "model_name": "FloatProgressModel",
          "state": {
            "_dom_classes": [],
            "_model_module": "@jupyter-widgets/controls",
            "_model_module_version": "1.5.0",
            "_model_name": "FloatProgressModel",
            "_view_count": null,
            "_view_module": "@jupyter-widgets/controls",
            "_view_module_version": "1.5.0",
            "_view_name": "ProgressView",
            "bar_style": "danger",
            "description": "",
            "description_tooltip": null,
            "layout": "IPY_MODEL_ea0eb9be0329489b8e8b6e76afaf078a",
            "max": 1200794589,
            "min": 0,
            "orientation": "horizontal",
            "style": "IPY_MODEL_760a47d6bd81431c9560056c36bdb60e",
            "value": 374494208
          }
        },
        "e1f0483aada4478f913296c458682f57": {
          "model_module": "@jupyter-widgets/controls",
          "model_module_version": "1.5.0",
          "model_name": "HTMLModel",
          "state": {
            "_dom_classes": [],
            "_model_module": "@jupyter-widgets/controls",
            "_model_module_version": "1.5.0",
            "_model_name": "HTMLModel",
            "_view_count": null,
            "_view_module": "@jupyter-widgets/controls",
            "_view_module_version": "1.5.0",
            "_view_name": "HTMLView",
            "description": "",
            "description_tooltip": null,
            "layout": "IPY_MODEL_86e44856bd5c4ca08e7f3d635264c94a",
            "placeholder": "​",
            "style": "IPY_MODEL_205f85b08c574acf97aeff29ef5b9ac3",
            "value": "Downloading: 100%"
          }
        },
        "e2057f29fb524ddb8067319b5b7fe976": {
          "model_module": "@jupyter-widgets/controls",
          "model_module_version": "1.5.0",
          "model_name": "HBoxModel",
          "state": {
            "_dom_classes": [],
            "_model_module": "@jupyter-widgets/controls",
            "_model_module_version": "1.5.0",
            "_model_name": "HBoxModel",
            "_view_count": null,
            "_view_module": "@jupyter-widgets/controls",
            "_view_module_version": "1.5.0",
            "_view_name": "HBoxView",
            "box_style": "",
            "children": [
              "IPY_MODEL_e1f0483aada4478f913296c458682f57",
              "IPY_MODEL_e23333bcdc344f5dbc025dc0b5d5720f",
              "IPY_MODEL_25a352b7e3db4d94b98a313e504ee229"
            ],
            "layout": "IPY_MODEL_4245cbec68954714a655813b2041d6ab"
          }
        },
        "e23333bcdc344f5dbc025dc0b5d5720f": {
          "model_module": "@jupyter-widgets/controls",
          "model_module_version": "1.5.0",
          "model_name": "FloatProgressModel",
          "state": {
            "_dom_classes": [],
            "_model_module": "@jupyter-widgets/controls",
            "_model_module_version": "1.5.0",
            "_model_name": "FloatProgressModel",
            "_view_count": null,
            "_view_module": "@jupyter-widgets/controls",
            "_view_module_version": "1.5.0",
            "_view_name": "ProgressView",
            "bar_style": "success",
            "description": "",
            "description_tooltip": null,
            "layout": "IPY_MODEL_1a86d75276544f108cdff7a975f6be11",
            "max": 553,
            "min": 0,
            "orientation": "horizontal",
            "style": "IPY_MODEL_23a51164e52b44b2a668ba5ffb9cb3d1",
            "value": 553
          }
        },
        "e8d3943d458a43e5a9c28a4c0e478704": {
          "model_module": "@jupyter-widgets/controls",
          "model_module_version": "1.5.0",
          "model_name": "HBoxModel",
          "state": {
            "_dom_classes": [],
            "_model_module": "@jupyter-widgets/controls",
            "_model_module_version": "1.5.0",
            "_model_name": "HBoxModel",
            "_view_count": null,
            "_view_module": "@jupyter-widgets/controls",
            "_view_module_version": "1.5.0",
            "_view_name": "HBoxView",
            "box_style": "",
            "children": [
              "IPY_MODEL_d070834d9db8489ea47cae4e06eb3141",
              "IPY_MODEL_d7f6e3322e1f42a0840a4adcf7b01a1f",
              "IPY_MODEL_613e53da433a4155b4d86f7aa9ef925d"
            ],
            "layout": "IPY_MODEL_5379187705694e8d8b17e961cb3645be"
          }
        },
        "ea0eb9be0329489b8e8b6e76afaf078a": {
          "model_module": "@jupyter-widgets/base",
          "model_module_version": "1.2.0",
          "model_name": "LayoutModel",
          "state": {
            "_model_module": "@jupyter-widgets/base",
            "_model_module_version": "1.2.0",
            "_model_name": "LayoutModel",
            "_view_count": null,
            "_view_module": "@jupyter-widgets/base",
            "_view_module_version": "1.2.0",
            "_view_name": "LayoutView",
            "align_content": null,
            "align_items": null,
            "align_self": null,
            "border": null,
            "bottom": null,
            "display": null,
            "flex": null,
            "flex_flow": null,
            "grid_area": null,
            "grid_auto_columns": null,
            "grid_auto_flow": null,
            "grid_auto_rows": null,
            "grid_column": null,
            "grid_gap": null,
            "grid_row": null,
            "grid_template_areas": null,
            "grid_template_columns": null,
            "grid_template_rows": null,
            "height": null,
            "justify_content": null,
            "justify_items": null,
            "left": null,
            "margin": null,
            "max_height": null,
            "max_width": null,
            "min_height": null,
            "min_width": null,
            "object_fit": null,
            "object_position": null,
            "order": null,
            "overflow": null,
            "overflow_x": null,
            "overflow_y": null,
            "padding": null,
            "right": null,
            "top": null,
            "visibility": null,
            "width": null
          }
        }
      }
    }
  },
  "nbformat": 4,
  "nbformat_minor": 0
}
